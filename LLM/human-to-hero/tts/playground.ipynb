{
 "cells": [
  {
   "cell_type": "code",
   "execution_count": null,
   "id": "fa254995",
   "metadata": {},
   "outputs": [],
   "source": [
    "# https://github.com/SWivid/F5-TTS\n",
    "# uv pip install f5-tts\n",
    "# f5-tts_infer-gradio --port 7860 --host 0.0.0.0"
   ]
  }
 ],
 "metadata": {
  "kernelspec": {
   "display_name": ".venv",
   "language": "python",
   "name": "python3"
  },
  "language_info": {
   "name": "python",
   "version": "3.11.7"
  }
 },
 "nbformat": 4,
 "nbformat_minor": 5
}
