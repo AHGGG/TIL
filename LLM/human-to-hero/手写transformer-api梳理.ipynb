{
 "cells": [
  {
   "cell_type": "markdown",
   "metadata": {},
   "source": [
    "### api"
   ]
  },
  {
   "cell_type": "markdown",
   "metadata": {},
   "source": [
    "#### 安装torch\n",
    "1. 检查cuda版本: NVIDIA-smi\n",
    "2. 使用uv pip安装: `uv pip install torch torchvision torchaudio --index-url https://download.pytorch.org/whl/cu126`"
   ]
  },
  {
   "cell_type": "code",
   "execution_count": 3,
   "metadata": {},
   "outputs": [],
   "source": [
    "import numpy as np\n",
    "import torch"
   ]
  },
  {
   "cell_type": "markdown",
   "metadata": {},
   "source": [
    "#### matrix multiplication"
   ]
  },
  {
   "cell_type": "code",
   "execution_count": null,
   "metadata": {},
   "outputs": [],
   "source": [
    "def matmul(a, b):\n",
    "    return np.dot(a, b)\n",
    "\n",
    "# 使用torch\n",
    "a = torch.randn(3, 4)\n",
    "b = torch.randn(4, 2)\n",
    "c = a @ b"
   ]
  },
  {
   "cell_type": "markdown",
   "metadata": {},
   "source": [
    "#### matrix addition"
   ]
  },
  {
   "cell_type": "code",
   "execution_count": 10,
   "metadata": {},
   "outputs": [],
   "source": [
    "def matadd(a, b):\n",
    "    return a + b\n",
    "\n",
    "# 使用torch\n",
    "a = torch.randn(3, 4)\n",
    "b = torch.randn(3, 4)\n",
    "c = a + b"
   ]
  },
  {
   "cell_type": "markdown",
   "metadata": {},
   "source": [
    "#### matrix transpose"
   ]
  },
  {
   "cell_type": "code",
   "execution_count": 16,
   "metadata": {},
   "outputs": [
    {
     "data": {
      "text/plain": [
       "True"
      ]
     },
     "execution_count": 16,
     "metadata": {},
     "output_type": "execute_result"
    }
   ],
   "source": [
    "def transpose(a):\n",
    "    return a.T\n",
    "\n",
    "# useage\n",
    "transpose(np.array([[1, 2], [3, 4]]))\n",
    "\n",
    "# 或者使用torch\n",
    "a = torch.randn(3, 4)\n",
    "a_t = a.t()           # 转置为 4x3\n",
    "# 或交互两个维度\n",
    "a = torch.randn(2, 3, 4)\n",
    "a_t = torch.transpose(a, 1, 2)  # 交换第1和第2维度, 输出为 2x4x3, 第一个维度可以看作是batch_size, 没有变\n",
    "\n",
    "# 使用permute, permute可以一次性交换多个维度\n",
    "a = torch.randn(2, 3, 4)\n",
    "a_t = a.permute(0, 2, 1)  # 交换第1和第2维度, 输出为 2x4x3, 第一个维度可以看作是batch_size, 没有变\n",
    "torch.equal(a_t, torch.transpose(a, 1, 2))"
   ]
  },
  {
   "cell_type": "markdown",
   "metadata": {},
   "source": [
    "#### matrix reshape"
   ]
  },
  {
   "cell_type": "code",
   "execution_count": null,
   "metadata": {},
   "outputs": [
    {
     "name": "stdout",
     "output_type": "stream",
     "text": [
      "tensor([[-1.6998,  2.8771],\n",
      "        [ 0.0795,  0.6788],\n",
      "        [-0.7718,  0.3488],\n",
      "        [-0.3760, -0.0326],\n",
      "        [ 0.7805,  0.6741],\n",
      "        [-0.8474, -0.5179]])\n",
      "tensor([[-1.6998,  2.8771,  0.0795,  0.6788],\n",
      "        [-0.7718,  0.3488, -0.3760, -0.0326],\n",
      "        [ 0.7805,  0.6741, -0.8474, -0.5179]])\n",
      "tensor([[-1.6998,  2.8771,  0.0795,  0.6788],\n",
      "        [-0.7718,  0.3488, -0.3760, -0.0326],\n",
      "        [ 0.7805,  0.6741, -0.8474, -0.5179]])\n"
     ]
    }
   ],
   "source": [
    "a = torch.randn(6, 2)\n",
    "b = a.reshape(3, 4)     # 重塑为 3x4\n",
    "# 或使用 view (需连续)\n",
    "b = a.view(3, 4)"
   ]
  },
  {
   "cell_type": "markdown",
   "metadata": {},
   "source": [
    "#### matrix initialization"
   ]
  },
  {
   "cell_type": "code",
   "execution_count": 23,
   "metadata": {},
   "outputs": [],
   "source": [
    "def init_matrix(shape):\n",
    "    return np.random.randn(*shape)\n",
    "\n",
    "# useage\n",
    "init_matrix((2, 2))\n",
    "\n",
    "\n",
    "# 使用torch\n",
    "zeros = torch.zeros(3, 4)       # 全零矩阵\n",
    "ones = torch.ones(3, 4)         # 全一矩阵\n",
    "rand_matrix = torch.rand(3, 4)  # 均匀分布 [0,1)\n",
    "randn_matrix = torch.randn(3, 4)# 标准正态分布"
   ]
  },
  {
   "cell_type": "markdown",
   "metadata": {},
   "source": [
    "#### calc sin and cos"
   ]
  },
  {
   "cell_type": "markdown",
   "metadata": {},
   "source": [
    "#### word tokenization(tiktoken)"
   ]
  },
  {
   "cell_type": "markdown",
   "metadata": {},
   "source": [
    "#### get random index in words"
   ]
  },
  {
   "cell_type": "markdown",
   "metadata": {},
   "source": [
    "#### apply matrix mask"
   ]
  },
  {
   "cell_type": "code",
   "execution_count": 115,
   "metadata": {},
   "outputs": [
    {
     "name": "stdout",
     "output_type": "stream",
     "text": [
      "tensor([[0.0295, 0.0232, 0.3002, 0.8024],\n",
      "        [0.2304, 0.1636, 0.2686, 0.9393],\n",
      "        [0.5409, 0.3600, 0.6509, 0.9590]])\n"
     ]
    },
    {
     "data": {
      "image/png": "[encoded data removed]",
      "text/plain": [
       "<Figure size 640x480 with 1 Axes>"
      ]
     },
     "metadata": {},
     "output_type": "display_data"
    }
   ],
   "source": [
    "a = torch.rand(3, 4)\n",
    "print(a)\n",
    "\n",
    "mask = (a > 0.9)          # 生成布尔掩码\n",
    "masked_b = a.masked_fill(mask, -1e9)  # 将正值替换为 -1e9\n",
    "\n",
    "# 可视化\n",
    "import matplotlib.pyplot as plt\n",
    "plt.imshow(masked_b.numpy())\n",
    "plt.show()"
   ]
  },
  {
   "cell_type": "code",
   "execution_count": null,
   "metadata": {},
   "outputs": [
    {
     "name": "stdout",
     "output_type": "stream",
     "text": [
      "tensor([[0.8358, 0.9703, 0.6392, 0.5983],\n",
      "        [0.1386, 0.0528, 0.2840, 0.1380],\n",
      "        [0.2713, 0.8566, 0.2319, 0.9742]])\n",
      "tensor([[False,  True,  True,  True],\n",
      "        [False, False,  True,  True],\n",
      "        [False, False, False,  True]])\n",
      "tensor([[ 8.3585e-01, -1.0000e+09, -1.0000e+09, -1.0000e+09],\n",
      "        [ 1.3857e-01,  5.2847e-02, -1.0000e+09, -1.0000e+09],\n",
      "        [ 2.7128e-01,  8.5660e-01,  2.3192e-01, -1.0000e+09]])\n"
     ]
    }
   ],
   "source": [
    "# 如果和矩阵的一部分mask为具体的值\n",
    "a = torch.rand(3, 4)\n",
    "print(a)\n",
    "\n",
    "# 生成一个上三角矩阵. diagonal为0, 代表包含对角线\n",
    "mask = torch.triu(torch.ones_like(a, dtype=torch.bool), diagonal=1)\n",
    "# mask = torch.triu(torch.ones(a.shape[0], a.shape[1], dtype=torch.bool), diagonal=1)\n",
    "print(mask)\n",
    "\n",
    "# a矩阵中mask为True的部分替换为-1e9\n",
    "masked_a = a.masked_fill(mask, value=-1e9)\n",
    "print(masked_a)"
   ]
  },
  {
   "cell_type": "markdown",
   "metadata": {},
   "source": [
    "#### create feed forward network"
   ]
  },
  {
   "cell_type": "markdown",
   "metadata": {},
   "source": [
    "#### calc softmax"
   ]
  },
  {
   "cell_type": "code",
   "execution_count": null,
   "metadata": {},
   "outputs": [
    {
     "name": "stdout",
     "output_type": "stream",
     "text": [
      "tensor([[-0.1718, -0.5286, -1.6809, -0.0682],\n",
      "        [ 1.5836,  1.3306, -0.6364, -1.8612],\n",
      "        [-1.3509, -0.4497, -0.7977, -1.0104]])\n",
      "tensor([[0.3300, 0.2310, 0.0730, 0.3660],\n",
      "        [0.5217, 0.4050, 0.0567, 0.0166],\n",
      "        [0.1514, 0.3727, 0.2632, 0.2128]])\n"
     ]
    },
    {
     "data": {
      "text/plain": [
       "tensor(1.)"
      ]
     },
     "execution_count": 135,
     "metadata": {},
     "output_type": "execute_result"
    }
   ],
   "source": [
    "logits = torch.randn(3, 4)\n",
    "print(logits)\n",
    "softmax = torch.nn.functional.softmax(logits, dim=-1)  # 沿最后一维计算(每一行)\n",
    "print(softmax)\n",
    "sum(softmax[0])"
   ]
  },
  {
   "cell_type": "markdown",
   "metadata": {},
   "source": [
    "#### calc sqrt root"
   ]
  },
  {
   "cell_type": "markdown",
   "metadata": {},
   "source": [
    "#### apply layer normalization"
   ]
  },
  {
   "cell_type": "markdown",
   "metadata": {},
   "source": [
    "#### calc max value in logits"
   ]
  },
  {
   "cell_type": "markdown",
   "metadata": {},
   "source": [
    "#### create feed forward network"
   ]
  },
  {
   "cell_type": "markdown",
   "metadata": {},
   "source": [
    "#### calc cross entropy"
   ]
  },
  {
   "cell_type": "markdown",
   "metadata": {},
   "source": [
    "### 其他"
   ]
  },
  {
   "cell_type": "markdown",
   "metadata": {},
   "source": [
    "关于torch中contiguous的意思: https://stackoverflow.com/a/69599806/12855525\n",
    "1. 其实就是tensor中的数据是不是连续存储的，有没有出现跳跃的情况\n",
    "2. 如果tensor不是连续存储的，可以使用contiguous()方法来使其连续存储"
   ]
  },
  {
   "cell_type": "markdown",
   "metadata": {},
   "source": []
  }
 ],
 "metadata": {
  "kernelspec": {
   "display_name": ".venv",
   "language": "python",
   "name": "python3"
  },
  "language_info": {
   "codemirror_mode": {
    "name": "ipython",
    "version": 3
   },
   "file_extension": ".py",
   "mimetype": "text/x-python",
   "name": "python",
   "nbconvert_exporter": "python",
   "pygments_lexer": "ipython3",
   "version": "3.11.7"
  }
 },
 "nbformat": 4,
 "nbformat_minor": 2
}
