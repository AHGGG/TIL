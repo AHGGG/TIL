{
 "cells": [
  {
   "cell_type": "markdown",
   "metadata": {},
   "source": [
    "### api"
   ]
  },
  {
   "cell_type": "markdown",
   "metadata": {},
   "source": [
    "#### 安装torch\n",
    "1. 检查cuda版本: NVIDIA-smi\n",
    "2. 使用uv pip安装: `uv pip install torch torchvision torchaudio --index-url https://download.pytorch.org/whl/cu126`"
   ]
  },
  {
   "cell_type": "code",
   "execution_count": 50,
   "metadata": {},
   "outputs": [
    {
     "name": "stdout",
     "output_type": "stream",
     "text": [
      "cuda:0\n"
     ]
    }
   ],
   "source": [
    "import numpy as np\n",
    "import torch\n",
    "import torch.nn as nn\n",
    "if torch.cuda.is_available():\n",
    "    torch.set_default_device('cuda')\n",
    "else:\n",
    "    torch.set_default_device('cpu')\n",
    "\n",
    "x = torch.randn(3, 3)\n",
    "print(x.device)  # 如果有 GPU，则输出 `cuda:0`"
   ]
  },
  {
   "cell_type": "markdown",
   "metadata": {},
   "source": [
    "#### matrix multiplication"
   ]
  },
  {
   "cell_type": "code",
   "execution_count": 51,
   "metadata": {},
   "outputs": [],
   "source": [
    "def matmul(a, b):\n",
    "    return np.dot(a, b)\n",
    "\n",
    "# 使用torch\n",
    "a = torch.randn(3, 4)\n",
    "b = torch.randn(4, 2)\n",
    "c = a @ b"
   ]
  },
  {
   "cell_type": "markdown",
   "metadata": {},
   "source": [
    "#### matrix addition"
   ]
  },
  {
   "cell_type": "code",
   "execution_count": 52,
   "metadata": {},
   "outputs": [],
   "source": [
    "def matadd(a, b):\n",
    "    return a + b\n",
    "\n",
    "# 使用torch\n",
    "a = torch.randn(3, 4)\n",
    "b = torch.randn(3, 4)\n",
    "c = a + b"
   ]
  },
  {
   "cell_type": "markdown",
   "metadata": {},
   "source": [
    "#### matrix transpose"
   ]
  },
  {
   "cell_type": "code",
   "execution_count": 53,
   "metadata": {},
   "outputs": [
    {
     "data": {
      "text/plain": [
       "True"
      ]
     },
     "execution_count": 53,
     "metadata": {},
     "output_type": "execute_result"
    }
   ],
   "source": [
    "def transpose(a):\n",
    "    return a.T\n",
    "\n",
    "# useage\n",
    "transpose(np.array([[1, 2], [3, 4]]))\n",
    "\n",
    "# 或者使用torch\n",
    "a = torch.randn(3, 4)\n",
    "a_t = a.t()           # 转置为 4x3\n",
    "# 或交互两个维度\n",
    "a = torch.randn(2, 3, 4)\n",
    "a_t = torch.transpose(a, 1, 2)  # 交换第1和第2维度, 输出为 2x4x3, 第一个维度可以看作是batch_size, 没有变\n",
    "\n",
    "# 使用permute, permute可以一次性交换多个维度\n",
    "a = torch.randn(2, 3, 4)\n",
    "a_t = a.permute(0, 2, 1)  # 交换第1和第2维度, 输出为 2x4x3, 第一个维度可以看作是batch_size, 没有变\n",
    "torch.equal(a_t, torch.transpose(a, 1, 2))"
   ]
  },
  {
   "cell_type": "markdown",
   "metadata": {},
   "source": [
    "#### matrix reshape"
   ]
  },
  {
   "cell_type": "code",
   "execution_count": 54,
   "metadata": {},
   "outputs": [],
   "source": [
    "a = torch.randn(6, 2)\n",
    "b = a.reshape(3, 4)     # 重塑为 3x4\n",
    "# 或使用 view (需连续)\n",
    "b = a.view(3, 4)"
   ]
  },
  {
   "cell_type": "markdown",
   "metadata": {},
   "source": [
    "#### matrix initialization"
   ]
  },
  {
   "cell_type": "code",
   "execution_count": 55,
   "metadata": {},
   "outputs": [],
   "source": [
    "def init_matrix(shape):\n",
    "    return np.random.randn(*shape)\n",
    "\n",
    "# useage\n",
    "init_matrix((2, 2))\n",
    "\n",
    "\n",
    "# 使用torch\n",
    "zeros = torch.zeros(3, 4)       # 全零矩阵\n",
    "ones = torch.ones(3, 4)         # 全一矩阵\n",
    "rand_matrix = torch.rand(3, 4)  # 均匀分布 [0,1)\n",
    "randn_matrix = torch.randn(3, 4)# 标准正态分布\n"
   ]
  },
  {
   "cell_type": "markdown",
   "metadata": {},
   "source": [
    "#### calc sin and cos"
   ]
  },
  {
   "cell_type": "code",
   "execution_count": 56,
   "metadata": {},
   "outputs": [
    {
     "name": "stdout",
     "output_type": "stream",
     "text": [
      "tensor([0.0000, 1.5708, 3.1416], device='cuda:0')\n",
      "sin(x): tensor([ 0.0000e+00,  1.0000e+00, -8.7423e-08], device='cuda:0')\n",
      "cos(x): tensor([ 1.0000e+00, -4.3711e-08, -1.0000e+00], device='cuda:0')\n"
     ]
    }
   ],
   "source": [
    "import torch\n",
    "\n",
    "# 创建一个张量\n",
    "x = torch.tensor([0.0, torch.pi / 2, torch.pi])\n",
    "print(x)\n",
    "\n",
    "# 计算正弦值\n",
    "sin_x = torch.sin(x)\n",
    "print(\"sin(x):\", sin_x)\n",
    "\n",
    "# 计算余弦值\n",
    "cos_x = torch.cos(x)\n",
    "print(\"cos(x):\", cos_x)\n"
   ]
  },
  {
   "cell_type": "markdown",
   "metadata": {},
   "source": [
    "#### word tokenization(tiktoken)"
   ]
  },
  {
   "cell_type": "code",
   "execution_count": 57,
   "metadata": {},
   "outputs": [
    {
     "name": "stdout",
     "output_type": "stream",
     "text": [
      "65\n"
     ]
    },
    {
     "data": {
      "text/plain": [
       "tensor([64], device='cuda:0')"
      ]
     },
     "execution_count": 57,
     "metadata": {},
     "output_type": "execute_result"
    }
   ],
   "source": [
    "import tiktoken\n",
    "\n",
    "data = \"a\"\n",
    "\n",
    "encoding = tiktoken.get_encoding(\"cl100k_base\")\n",
    "tokenized_text = encoding.encode(data)\n",
    "max_token_value = max(tokenized_text) + 1\n",
    "print(max_token_value)\n",
    "tokenized_text = torch.tensor(tokenized_text, dtype=torch.long)\n",
    "tokenized_text"
   ]
  },
  {
   "cell_type": "markdown",
   "metadata": {},
   "source": [
    "#### get random index in words"
   ]
  },
  {
   "cell_type": "code",
   "execution_count": 58,
   "metadata": {},
   "outputs": [
    {
     "name": "stdout",
     "output_type": "stream",
     "text": [
      "tensor([15339,  1917,     0,  3475,   828,   369,  4037,  2065,    13],\n",
      "       device='cuda:0')\n",
      "torch.Size([2, 3]) torch.Size([2, 3])\n"
     ]
    }
   ],
   "source": [
    "data = \"hello world! Test data for tokenization.\"\n",
    "tokenized_text = encoding.encode(data)\n",
    "# tokenize后, 我们可以使用torch.tensor将其转换为张量\n",
    "tokenized_text = torch.tensor(tokenized_text, dtype=torch.long)\n",
    "print(tokenized_text)\n",
    "\n",
    "batch_size = 2\n",
    "context_length = 3\n",
    "\n",
    "# 生成一个随机的下标, 注意这里size是元组, 代表我们每个批次选一个开始下标\n",
    "idxs = torch.randint(low=0, high=len(tokenized_text) - context_length, size=(batch_size,))\n",
    "\n",
    "# 这样就可以继续从tokenized_texta中取出对应批次的数据, x_batch是输入, y_batch是预期输出\n",
    "x_batch = torch.stack([tokenized_text[idx:idx + context_length] for idx in idxs])\n",
    "y_batch = torch.stack([tokenized_text[idx + 1:idx + context_length + 1] for idx in idxs])\n",
    "print(x_batch.shape, x_batch.shape)"
   ]
  },
  {
   "cell_type": "markdown",
   "metadata": {},
   "source": [
    "#### apply matrix mask"
   ]
  },
  {
   "cell_type": "code",
   "execution_count": 59,
   "metadata": {},
   "outputs": [
    {
     "name": "stdout",
     "output_type": "stream",
     "text": [
      "tensor([[0.4496, 0.0780, 0.1184, 0.3280],\n",
      "        [0.2820, 0.1881, 0.1188, 0.3170],\n",
      "        [0.9326, 0.5730, 0.3664, 0.1999]], device='cuda:0')\n"
     ]
    },
    {
     "data": {
      "image/png": "[encoded data removed]",
      "text/plain": [
       "<Figure size 640x480 with 1 Axes>"
      ]
     },
     "metadata": {},
     "output_type": "display_data"
    }
   ],
   "source": [
    "a = torch.rand(3, 4)\n",
    "print(a)\n",
    "\n",
    "mask = (a > 0.9)          # 生成布尔掩码\n",
    "masked_b = a.masked_fill(mask, -1e9)  # 将正值替换为 -1e9\n",
    "\n",
    "# 可视化\n",
    "import matplotlib.pyplot as plt\n",
    "plt.imshow(masked_b.cpu().numpy())\n",
    "plt.show()"
   ]
  },
  {
   "cell_type": "code",
   "execution_count": 60,
   "metadata": {},
   "outputs": [
    {
     "name": "stdout",
     "output_type": "stream",
     "text": [
      "tensor([[0.3163, 0.9202, 0.6243, 0.6699],\n",
      "        [0.5641, 0.3972, 0.6005, 0.3296],\n",
      "        [0.2281, 0.3202, 0.3345, 0.2969]], device='cuda:0')\n",
      "tensor([[False,  True,  True,  True],\n",
      "        [False, False,  True,  True],\n",
      "        [False, False, False,  True]], device='cuda:0')\n",
      "tensor([[ 3.1629e-01, -1.0000e+09, -1.0000e+09, -1.0000e+09],\n",
      "        [ 5.6409e-01,  3.9724e-01, -1.0000e+09, -1.0000e+09],\n",
      "        [ 2.2814e-01,  3.2016e-01,  3.3451e-01, -1.0000e+09]], device='cuda:0')\n"
     ]
    }
   ],
   "source": [
    "# 如果和矩阵的一部分mask为具体的值\n",
    "a = torch.rand(3, 4)\n",
    "print(a)\n",
    "\n",
    "# 生成一个上三角矩阵. diagonal为0, 代表包含对角线\n",
    "mask = torch.triu(torch.ones_like(a, dtype=torch.bool), diagonal=1)\n",
    "# mask = torch.triu(torch.ones(a.shape[0], a.shape[1], dtype=torch.bool), diagonal=1)\n",
    "print(mask)\n",
    "\n",
    "# a矩阵中mask为True的部分替换为-1e9\n",
    "masked_a = a.masked_fill(mask, value=-1e9)\n",
    "print(masked_a)"
   ]
  },
  {
   "cell_type": "markdown",
   "metadata": {},
   "source": [
    "#### calc softmax"
   ]
  },
  {
   "cell_type": "code",
   "execution_count": 61,
   "metadata": {},
   "outputs": [
    {
     "name": "stdout",
     "output_type": "stream",
     "text": [
      "tensor([[ 1.8580,  1.2356, -0.5407, -0.4103],\n",
      "        [-1.4469,  1.3955,  0.8138, -0.1618],\n",
      "        [ 0.1205,  0.6529,  1.5561, -0.3242]], device='cuda:0')\n",
      "tensor([[0.5777, 0.3100, 0.0525, 0.0598],\n",
      "        [0.0319, 0.5471, 0.3058, 0.1153],\n",
      "        [0.1325, 0.2257, 0.5568, 0.0849]], device='cuda:0')\n"
     ]
    },
    {
     "data": {
      "text/plain": [
       "tensor(1., device='cuda:0')"
      ]
     },
     "execution_count": 61,
     "metadata": {},
     "output_type": "execute_result"
    }
   ],
   "source": [
    "logits = torch.randn(3, 4)\n",
    "print(logits)\n",
    "softmax = torch.nn.functional.softmax(logits, dim=-1)  # 沿最后一维计算(每一行)\n",
    "print(softmax)\n",
    "sum(softmax[0])"
   ]
  },
  {
   "cell_type": "markdown",
   "metadata": {},
   "source": [
    "#### calc sqrt root"
   ]
  },
  {
   "cell_type": "code",
   "execution_count": 62,
   "metadata": {},
   "outputs": [
    {
     "data": {
      "text/plain": [
       "2.0"
      ]
     },
     "execution_count": 62,
     "metadata": {},
     "output_type": "execute_result"
    }
   ],
   "source": [
    "import math\n",
    "math.sqrt(4)"
   ]
  },
  {
   "cell_type": "markdown",
   "metadata": {},
   "source": [
    "#### apply layer normalization"
   ]
  },
  {
   "cell_type": "code",
   "execution_count": null,
   "metadata": {},
   "outputs": [],
   "source": [
    "layer_norm = nn.LayerNorm(2)\n",
    "# 把前面的输出作为输入, 调用layer_norm\n",
    "# layer_norm(output)"
   ]
  },
  {
   "cell_type": "markdown",
   "metadata": {},
   "source": [
    "#### create feed forward network"
   ]
  },
  {
   "cell_type": "code",
   "execution_count": null,
   "metadata": {},
   "outputs": [],
   "source": [
    "class FeedForward(nn.Module):\n",
    "    def __init__(self):\n",
    "        super().__init__()\n",
    "        # 维度\n",
    "        self.d_model = d_model\n",
    "        # 丢失率\n",
    "        self.dropout = dropout\n",
    "        # 两个线性层, 先从d_model映射到d_model*4, 再从d_model*4映射到d_model, 中间有ReLU激活函数, 最后有dropout\n",
    "        self.ffn = nn.Sequential(\n",
    "            nn.Linear(in_features=self.d_model, out_features=self.d_model * 4),\n",
    "            nn.ReLU(),\n",
    "            nn.Linear(in_features=self.d_model * 4, out_features=self.d_model),\n",
    "            nn.Dropout(dropout),\n",
    "        )\n",
    "\n",
    "    def forward(self, x):\n",
    "        return self.ffn(x)"
   ]
  },
  {
   "cell_type": "markdown",
   "metadata": {},
   "source": [
    "#### calc cross entropy"
   ]
  },
  {
   "cell_type": "markdown",
   "metadata": {},
   "source": [
    "交叉熵损失函数`F.cross_entropy(input=logits, target=targets_reshaped)`期望输入的形状是 (N, C) 和 (N)，其中 N 是样本数量，C 是类别数量。\n",
    "> 我的理解: 为什么target里不需要考虑C(类别数), 因为target代表的意思就是预期的类别, 而我们的输入里放了C个类别的概率. 所以输入的每个序列里的某一个元素, 都有一个预期的类别, 这样target其实就相当于降维了.\n",
    "\n",
    "下面deepseek给了一个使用示例:"
   ]
  },
  {
   "cell_type": "code",
   "execution_count": null,
   "metadata": {},
   "outputs": [],
   "source": [
    "import torch\n",
    "from torch.nn import functional as F\n",
    "\n",
    "# 假设我们有一个简单的分类任务\n",
    "# 输入是一个 batch 的 logits，目标是对应的类别标签\n",
    "\n",
    "# 定义 batch size (B), 类别数 (C), 序列长度 (T)\n",
    "B = 2  # batch size\n",
    "T = 3  # 序列长度(就是有几个词)\n",
    "C = 5  # 类别数（词汇表大小）\n",
    "\n",
    "# 随机生成 logits (模型的输出)\n",
    "# logits 的形状是 (B, T, C)\n",
    "logits = torch.randn(B, T, C)  # 随机生成 logits\n",
    "print(\"Logits (原始形状):\")\n",
    "print(logits)\n",
    "print(\"Logits 的形状:\", logits.shape)\n",
    "\n",
    "# 随机生成 targets (目标类别标签)\n",
    "# targets 的形状是 (B, T)\n",
    "targets = torch.randint(0, C, (B, T))  # 随机生成目标标签\n",
    "print(\"\\nTargets (原始形状):\")\n",
    "print(targets)\n",
    "print(\"Targets 的形状:\", targets.shape)\n",
    "\n",
    "# 将 logits 和 targets 重塑为 (B * T, C) 和 (B * T)\n",
    "logits_reshaped = logits.view(B * T, C)  # 重塑为 (B * T, C)\n",
    "targets_reshaped = targets.view(B * T)   # 重塑为 (B * T)\n",
    "print(\"\\nReshaped Logits (形状):\", logits_reshaped.shape)\n",
    "print(\"Reshaped Targets (形状):\", targets_reshaped.shape)\n",
    "\n",
    "# 使用 F.cross_entropy 计算损失\n",
    "loss = F.cross_entropy(logits_reshaped, targets_reshaped)\n",
    "print(\"\\n计算得到的损失值:\", loss)\n"
   ]
  },
  {
   "cell_type": "markdown",
   "metadata": {},
   "source": [
    "##### how to use loss"
   ]
  },
  {
   "cell_type": "markdown",
   "metadata": {},
   "source": [
    "计算出loss后, 我们就直到了初测出来的值和目标值的差异的大小, 这个时候借助反向传播, 我们就可以调整我们的参数, 使得我们的预测值更加接近目标值.\n",
    "\n",
    "涉及到的api:\n",
    "1. `loss.backward()`: 反向传播, 计算梯度\n",
    "2. `optimizer.step()`: optimizer会更新模型中的参数. 注意: 这个函数会更新所有的参数, 所以在调用这个函数之前, 我们需要先调用`optimizer.zero_grad()`清空梯度缓存."
   ]
  },
  {
   "cell_type": "markdown",
   "metadata": {},
   "source": [
    "### 其他"
   ]
  },
  {
   "cell_type": "markdown",
   "metadata": {},
   "source": [
    "关于torch中contiguous的意思: https://stackoverflow.com/a/69599806/12855525\n",
    "1. 其实就是tensor中的数据是不是连续存储的，有没有出现跳跃的情况\n",
    "2. 如果tensor不是连续存储的，可以使用contiguous()方法来使其连续存储"
   ]
  },
  {
   "cell_type": "markdown",
   "metadata": {},
   "source": [
    "方差(mean), 公式: \n",
    "$μ = \\frac{1}{n}\\sum_{i=1}^{n}x_i$  \n",
    "标准差(standard deviation), 公式: \n",
    "$var = \\frac{1}{n}\\sum_{i=1}^{n}(x_i - \\mu)^2$\n",
    "$σ = \\sqrt{var}$"
   ]
  },
  {
   "cell_type": "markdown",
   "metadata": {},
   "source": [
    "layer normalization的一些几何解释: [Re-Introducing LayerNorm: Geometric Meaning, Irreversibility and a Comparative Study with RMSNorm](https://arxiv.org/html/2409.12951v1#S2)"
   ]
  },
  {
   "cell_type": "markdown",
   "metadata": {},
   "source": []
  }
 ],
 "metadata": {
  "kernelspec": {
   "display_name": ".venv",
   "language": "python",
   "name": "python3"
  },
  "language_info": {
   "codemirror_mode": {
    "name": "ipython",
    "version": 3
   },
   "file_extension": ".py",
   "mimetype": "text/x-python",
   "name": "python",
   "nbconvert_exporter": "python",
   "pygments_lexer": "ipython3",
   "version": "3.11.7"
  }
 },
 "nbformat": 4,
 "nbformat_minor": 2
}
